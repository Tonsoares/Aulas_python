{
  "nbformat": 4,
  "nbformat_minor": 0,
  "metadata": {
    "colab": {
      "name": "Curso Python para Data ScienceAilton.ipynb",
      "provenance": [],
      "collapsed_sections": [],
      "authorship_tag": "ABX9TyPx4obwgLlCezkmNkjlA2Zc",
      "include_colab_link": true
    },
    "kernelspec": {
      "name": "python3",
      "display_name": "Python 3"
    },
    "language_info": {
      "name": "python"
    }
  },
  "cells": [
    {
      "cell_type": "markdown",
      "metadata": {
        "id": "view-in-github",
        "colab_type": "text"
      },
      "source": [
        "<a href=\"https://colab.research.google.com/github/Tonsoares/aulas_python01a10/blob/main/Curso_Python_para_Data_ScienceAilton.ipynb\" target=\"_parent\"><img src=\"https://colab.research.google.com/assets/colab-badge.svg\" alt=\"Open In Colab\"/></a>"
      ]
    },
    {
      "cell_type": "markdown",
      "source": [
        " # Primeira Execução de Script"
      ],
      "metadata": {
        "id": "wdvpAYuIeQC9"
      }
    },
    {
      "cell_type": "code",
      "source": [
        "print ('Hello World')"
      ],
      "metadata": {
        "colab": {
          "base_uri": "https://localhost:8080/"
        },
        "id": "rzm_x9DFd_y6",
        "outputId": "c237838a-a529-444f-d8a2-a7ed69d599f3"
      },
      "execution_count": null,
      "outputs": [
        {
          "output_type": "stream",
          "name": "stdout",
          "text": [
            "Hello World\n"
          ]
        }
      ]
    },
    {
      "cell_type": "code",
      "source": [
        "print('Seja bem vindo ao  \\n\\nMBA em data Science\\n\\n - FLAI  FAMESP -')"
      ],
      "metadata": {
        "colab": {
          "base_uri": "https://localhost:8080/"
        },
        "id": "nuRozwJffNMR",
        "outputId": "0bac404b-ac30-4a78-ee13-1d97a070f0e4"
      },
      "execution_count": null,
      "outputs": [
        {
          "output_type": "stream",
          "name": "stdout",
          "text": [
            "Seja bem vindo ao  \n",
            "\n",
            "MBA em data Science\n",
            "\n",
            " - FLAI  FAMESP -\n"
          ]
        }
      ]
    },
    {
      "cell_type": "markdown",
      "source": [
        "# Atribuição de Variáveis"
      ],
      "metadata": {
        "id": "ZRtOQ7TRfuTE"
      }
    },
    {
      "cell_type": "code",
      "source": [
        "meu_nome = 'Ricardo'\n",
        "meu_sobrenome = 'Rocha'\n",
        "meu_produto = \"Caixa d'agua\"\n",
        "minha_frase = '\"Vamos que vamos!\"'\n",
        "print(meu_nome)\n",
        "print(meu_sobrenome)\n",
        "print(meu_produto)\n",
        "print(minha_frase)"
      ],
      "metadata": {
        "colab": {
          "base_uri": "https://localhost:8080/"
        },
        "id": "gxtvutWeiBj1",
        "outputId": "acf2545a-9440-44df-cd4b-071d5e642c22"
      },
      "execution_count": null,
      "outputs": [
        {
          "output_type": "stream",
          "name": "stdout",
          "text": [
            "Ricardo\n",
            "Rocha\n",
            "Caixa d'agua\n",
            "\"Vamos que vamos!\"\n"
          ]
        }
      ]
    },
    {
      "cell_type": "markdown",
      "source": [
        "Não é possível atribuir variáveis com nomes começando com números, nem com espaços no nome ou com aspas."
      ],
      "metadata": {
        "id": "-gTLTRZgiN17"
      }
    },
    {
      "cell_type": "code",
      "source": [
        "# 1_a = 2\n",
        "# var com espaco = 2\n",
        "# a'd = 12 "
      ],
      "metadata": {
        "id": "S5rrd6cyiB-E"
      },
      "execution_count": null,
      "outputs": []
    },
    {
      "cell_type": "markdown",
      "source": [
        "OBS.: O **hashtag #** na frente de uma linha torna ela um **comentário**, pois o interpretador ignora tudo que vem depois dela "
      ],
      "metadata": {
        "id": "Yz5bb72JiiV_"
      }
    },
    {
      "cell_type": "markdown",
      "source": [
        "## ◾ **Operadores Aritméticos**"
      ],
      "metadata": {
        "id": "ZbVkGKoNiwoY"
      }
    },
    {
      "cell_type": "markdown",
      "source": [
        "Confira na tabela abaixo como funcionam os operadores aritméticos em Python. \n",
        "\n",
        "Em especial, veja que a sintaxe da exponenciação não é feita através do sinal '^'.\n",
        "\n",
        "| Operator     | Name           | Description                                            |\n",
        "|--------------|----------------|--------------------------------------------------------|\n",
        "| ``a + b``    | Adiçao       | Soma entre ``a`` e ``b``                                 |\n",
        "| ``a - b``    | Subtração    | Diferença entre ``a`` e ``b``                          |\n",
        "| ``a * b``    | Multiplicação | Produto entre ``a`` e ``b``                             |\n",
        "| ``a / b``    | Divisão  | Divisão usual entre ``a`` e ``b``                            |\n",
        "| ``a // b``   | Divisão inteira | A divisão entre ``a`` e ``b``, removendo as partes decimais |\n",
        "| ``a % b``    | Resto da divisão        | O resto da divisão inteira de ``a`` por ``b``     |\n",
        "| ``a ** b``   | Exponenciação | ``a`` elevado a ``b``                     |\n",
        "| ``-a``       | Negação       | O negativo de ``a``                                  |\n"
      ],
      "metadata": {
        "id": "qu7RW9M_i7Ib"
      }
    },
    {
      "cell_type": "code",
      "source": [
        "a = 5\n",
        "b = 3\n",
        "\n",
        "print(a + b)\n",
        "print(a - b)\n",
        "print(a * b)\n",
        "print(a / b)\n",
        "print(a // b)\n",
        "print(a % b)\n",
        "print(a ** b)\n",
        "print(-a)\n"
      ],
      "metadata": {
        "colab": {
          "base_uri": "https://localhost:8080/"
        },
        "id": "WOc1MnApi1aZ",
        "outputId": "28a454eb-7ce2-4344-e314-e560c5ad614f"
      },
      "execution_count": null,
      "outputs": [
        {
          "output_type": "stream",
          "name": "stdout",
          "text": [
            "8\n",
            "2\n",
            "15\n",
            "1.6666666666666667\n",
            "1\n",
            "2\n",
            "125\n",
            "-5\n"
          ]
        }
      ]
    },
    {
      "cell_type": "markdown",
      "source": [
        "Temos também as funções **min**, **max** e **abs**, para calcular, respectivamente, o mínimo, o máximo e o valor absoluto de um número\n"
      ],
      "metadata": {
        "id": "m9iTJwubjJMR"
      }
    },
    {
      "cell_type": "code",
      "source": [
        "print(max(a, b))\n",
        "print(min(a, b))\n",
        "print(abs(-a))\n"
      ],
      "metadata": {
        "colab": {
          "base_uri": "https://localhost:8080/"
        },
        "id": "v-nvD1V3jLqP",
        "outputId": "eab651d4-40d2-47c1-a13a-1ca4e8bc0a3d"
      },
      "execution_count": null,
      "outputs": [
        {
          "output_type": "stream",
          "name": "stdout",
          "text": [
            "5\n",
            "3\n",
            "5\n"
          ]
        }
      ]
    },
    {
      "cell_type": "markdown",
      "source": [
        "## ◾ **Algumas Funções Úteis**"
      ],
      "metadata": {
        "id": "83B3x3Mcjc-s"
      }
    },
    {
      "cell_type": "code",
      "source": [
        "# input\n",
        "# idade = 35\n",
        "idade = input('Entre com a sua idade:')\n",
        "nome = input('Qual  o seu nome: ')"
      ],
      "metadata": {
        "colab": {
          "base_uri": "https://localhost:8080/"
        },
        "id": "6mswrLwkfs29",
        "outputId": "b7b62bde-77fb-49bd-90ee-fd84fd989540"
      },
      "execution_count": null,
      "outputs": [
        {
          "name": "stdout",
          "output_type": "stream",
          "text": [
            "Entre com a sua idade:54\n",
            "Qual  o seu nome: Ailton\n"
          ]
        }
      ]
    },
    {
      "cell_type": "code",
      "source": [
        "idade"
      ],
      "metadata": {
        "colab": {
          "base_uri": "https://localhost:8080/",
          "height": 35
        },
        "id": "98iVaV9-gKul",
        "outputId": "077fb628-8fb7-475b-f2f6-e95e2accfb92"
      },
      "execution_count": null,
      "outputs": [
        {
          "output_type": "execute_result",
          "data": {
            "text/plain": [
              "'54'"
            ],
            "application/vnd.google.colaboratory.intrinsic+json": {
              "type": "string"
            }
          },
          "metadata": {},
          "execution_count": 26
        }
      ]
    },
    {
      "cell_type": "code",
      "source": [
        "int(idade)"
      ],
      "metadata": {
        "colab": {
          "base_uri": "https://localhost:8080/"
        },
        "id": "WjlWZrObgU2L",
        "outputId": "8a81dfed-e36f-4a48-97cf-d224e8ee1178"
      },
      "execution_count": null,
      "outputs": [
        {
          "output_type": "execute_result",
          "data": {
            "text/plain": [
              "54"
            ]
          },
          "metadata": {},
          "execution_count": 27
        }
      ]
    },
    {
      "cell_type": "code",
      "source": [
        "#type\n",
        "type(int(idade))"
      ],
      "metadata": {
        "colab": {
          "base_uri": "https://localhost:8080/"
        },
        "id": "GQtblDHJgcH4",
        "outputId": "1c9ed325-5035-4d07-e4aa-550eb4533ddf"
      },
      "execution_count": null,
      "outputs": [
        {
          "output_type": "execute_result",
          "data": {
            "text/plain": [
              "int"
            ]
          },
          "metadata": {},
          "execution_count": 28
        }
      ]
    },
    {
      "cell_type": "code",
      "source": [
        "#round\n",
        "round(35.5353, ndigits=3)"
      ],
      "metadata": {
        "colab": {
          "base_uri": "https://localhost:8080/"
        },
        "id": "Ir0QzyT-gjoH",
        "outputId": "bc423388-68cb-4022-9264-afe25911eb32"
      },
      "execution_count": null,
      "outputs": [
        {
          "output_type": "execute_result",
          "data": {
            "text/plain": [
              "35.535"
            ]
          },
          "metadata": {},
          "execution_count": 29
        }
      ]
    },
    {
      "cell_type": "code",
      "source": [
        "#len\n",
        "len(nome)"
      ],
      "metadata": {
        "colab": {
          "base_uri": "https://localhost:8080/"
        },
        "id": "Y2s4Lfmsg0XP",
        "outputId": "d763ec4d-d71e-46b0-dcc3-e07060266003"
      },
      "execution_count": null,
      "outputs": [
        {
          "output_type": "execute_result",
          "data": {
            "text/plain": [
              "6"
            ]
          },
          "metadata": {},
          "execution_count": 34
        }
      ]
    },
    {
      "cell_type": "markdown",
      "source": [
        "Faça um programa que pergunte o nome da pessoa e a distância de uma corrida que se deseja fazer. Calcule o preço das corridas a partir da distância $Q$, em quilômetros, da corrida. O preço de uma corrida simples, corrida premium e corrida para entrega de pacotes é dado, respectivamente por: \n",
        "\n",
        "$$Simples = 6,00 + 0,735Q $$\n",
        "$$Premium = 10,00 + 0,6Q + 0.07Q^2$$\n",
        "$$Entrega = 6,00 + 0,65Q - 0.04Q^2$$\n",
        "\n",
        "Entregue na tela uma saudação ao cliente e os valores de cada corrida, com no máximo 2 casas decimais."
      ],
      "metadata": {
        "id": "JcpBlBSmzqfZ"
      }
    },
    {
      "cell_type": "code",
      "source": [
        "q = int(input('Qual a distância da corrida?'))\n",
        "\n",
        "simples = 6 + 0.735*q\n",
        "premium = 10 + 0.6*q + 0.07*q**2\n",
        "entrega = 6 + 0.65*q - 0.04*q**2\n",
        "\n",
        "print('O Valor da corrida SIMPLES é', round(simples, 2))\n",
        "print('O Valor da corrida PREMIUM é', round(premium, 2))\n",
        "print('O Valor da corrida ENTREGA é', round(entrega, 2))"
      ],
      "metadata": {
        "id": "C--9Yr7glmUf"
      },
      "execution_count": null,
      "outputs": []
    },
    {
      "cell_type": "markdown",
      "source": [
        "## ◾ **Exercício Proposto**\n",
        "\n",
        "Faça um programa que receba como entrada a área e o perímetro de uma residência. A partir de tais valores, calcule o custo para colocar piso no chão dessa casa e o custo para pintar as paredes dessa casa. Faça as suposições necessárias. "
      ],
      "metadata": {
        "id": "NwsDkbqfmNlh"
      }
    },
    {
      "cell_type": "code",
      "source": [
        "area = 100 #metros quadrados\n",
        "perimetro = 40 # metros\n",
        "\n",
        "piso = 59.90\n",
        "margem = 0.10\n",
        "\n",
        "custo_piso = area*piso*(1 + margem)\n",
        "                        \n",
        "#apenas paredes externas\n",
        "altura = 2.70\n",
        "galao = 349.90 #pinta 300m2\n",
        "demao = 4\n",
        "\n",
        "custo_pintura = (perimetro * altura * demao / 300) * galao * (1 + margem)\n",
        "custo_pintura\n",
        "\n",
        "print('Custo_piso: ', round(custo_piso, 2))\n",
        "print('Custo da Pintura: ', round(custo_pintura, 2))\n"
      ],
      "metadata": {
        "colab": {
          "base_uri": "https://localhost:8080/"
        },
        "id": "k3RSKnyu0Ju3",
        "outputId": "1ba6356f-604a-4225-e2f5-7522cccfacfd"
      },
      "execution_count": null,
      "outputs": [
        {
          "output_type": "stream",
          "name": "stdout",
          "text": [
            "Custo_piso:  6589.0\n",
            "Custo da Pintura:  554.24\n"
          ]
        }
      ]
    },
    {
      "cell_type": "markdown",
      "source": [
        "Exercício Proposto\n",
        "Considere a lista abaixo:\n",
        "\n",
        "lista = ['A', 35, ['Alice', 'Johnny', [35, [0,1,'F'], 29], 1987], ['Python', 'para', 'DS'] ]\n",
        "\n",
        "Escreva como retornar dessa lista apenas o valor 'F'."
      ],
      "metadata": {
        "id": "mGzveE8RsvGE"
      }
    },
    {
      "cell_type": "code",
      "source": [
        "lista = ['A', 35, ['Alice', 'Johnny', [35, [0,1,'F'], 29], 1987], ['Python', 'para', 'DS'] ]\n",
        "lista[2][2][1][2]\n",
        "         "
      ],
      "metadata": {
        "id": "lsrECRjFqxea",
        "colab": {
          "base_uri": "https://localhost:8080/",
          "height": 35
        },
        "outputId": "755527d0-5eeb-433f-915c-22aaad633a9b"
      },
      "execution_count": null,
      "outputs": [
        {
          "output_type": "execute_result",
          "data": {
            "text/plain": [
              "'F'"
            ],
            "application/vnd.google.colaboratory.intrinsic+json": {
              "type": "string"
            }
          },
          "metadata": {},
          "execution_count": 9
        }
      ]
    },
    {
      "cell_type": "markdown",
      "source": [
        "## ◾ **Exercício Proposto**\n",
        "\n",
        "Considere os seguintes e-mails abaixo. Faça um programa que retorne 2 listas, uma com todos os nomes de usuários e outra com todos os servidores de e-mails. Além disso, exiba a contagem de e-mails de cada servidor. \n",
        "\n",
        "- ricardo@flai.com.br\n",
        "- alice@hotmail.com\n",
        "- joao@gmail.com\n",
        "- maria@gmail.com"
      ],
      "metadata": {
        "id": "RqTm_Tqbth6W"
      }
    },
    {
      "cell_type": "code",
      "source": [
        "usuarios = []\n",
        "servidores = []\n",
        "\n",
        "email1 = 'ricardo@flai.com.br'\n",
        "email2 = 'alice@hotmail.com'\n",
        "email3 = 'joao@gmail.com'\n",
        "email4 = 'maria@gmail.com'\n",
        "\n",
        "usuarios.append(email1.split('@')[0])\n",
        "servidores.append(email1.split('@')[1])\n",
        "\n",
        "usuarios.append(email2.split('@')[0])\n",
        "servidores.append(email2.split('@')[1])\n",
        "\n",
        "usuarios.append(email3.split('@')[0])\n",
        "servidores.append(email3.split('@')[1])\n",
        "\n",
        "usuarios.append(email4.split('@')[0])\n",
        "servidores.append(email4.split('@')[1])\n",
        "\n",
        "print(usuarios)\n",
        "print(servidores)\n",
        "\n",
        "print('Usuarios FLAI:', servidores.count('flai.com.br'))\n",
        "print('Usuarios Gmail:', servidores.count('gmail.com'))\n",
        "print('Usuarios Hotmail:', servidores.count('hotmail.com')) "
      ],
      "metadata": {
        "colab": {
          "base_uri": "https://localhost:8080/"
        },
        "id": "dT4YDH2HthWm",
        "outputId": "fbae9beb-d385-4b71-d201-6e73cd5056a2"
      },
      "execution_count": null,
      "outputs": [
        {
          "output_type": "stream",
          "name": "stdout",
          "text": [
            "['ricardo', 'alice', 'joao', 'maria']\n",
            "['flai.com.br', 'hotmail.com', 'gmail.com', 'gmail.com']\n",
            "Usuarios FLAI: 1\n",
            "Usuarios Gmail: 2\n",
            "Usuarios Hotmail: 1\n"
          ]
        }
      ]
    },
    {
      "cell_type": "markdown",
      "source": [
        "## ◾ **Exercício Proposto**\n",
        "\n",
        "Um algoritmo classifica clientes de um banco de acordo com a seguinte regra:\n",
        "\n",
        "- Score entre 0 e 500 são clientes de alto risco.\n",
        "- Score entre 500 e 800 são clientes de médio risco.\n",
        "- Score entre 800 e 1000 são clientes de baixo risco.\n",
        "\n",
        "O cliente entra com 3 variáveis: idade (numero inteiro 0-75), renda (numero real 0-10000) e status_emprego (0 para desempregado e 1 para empregado).\n",
        "\n",
        "O Score é calculado da seguinte forma: se o cliente for desempregado, então \n",
        "\n",
        "$$Score = 455(idade/75 + renda/10000) $$\n",
        "\n",
        "Se empregado, então\n",
        "\n",
        "$$Score = 490(idade/75 + renda/10000) $$\n",
        "\n",
        "Faça um programa que retorne, dado as 3 variáveis de entrada, o Score e a faixa de risco do cliente. \n",
        "\n"
      ],
      "metadata": {
        "id": "xzFr-rhhuBg5"
      }
    },
    {
      "cell_type": "code",
      "source": [
        "idade = 35\n",
        "renda = 10000\n",
        "status_emprego = 0\n",
        "\n",
        "if idade >= 0 and idade <= 75 and renda >= 0 and renda <= 10000:\n",
        "\n",
        "    if status_emprego == 0:\n",
        "        score = 455*(idade/75 + renda/10000)\n",
        "    else:\n",
        "        score = 490*(idade/75 + renda/10000)\n",
        "\n",
        "    if score >= 0 and score < 500:\n",
        "        risco = '\"Alto\"'\n",
        "    elif score >= 500 and score < 800:\n",
        "        risco = '\"Médio\"'\n",
        "    elif score >= 800 and score < 1000:\n",
        "        risco = '\"Baixo\"'\n",
        "    else: \n",
        "        print('Score fora do intervalo adequado')\n",
        "\n",
        "    print('Score:', round(score, 1))\n",
        "    print('Risco', risco)\n",
        "\n",
        "else: \n",
        "    print('Algum problema nas variaveis de entrada foi detectado')"
      ],
      "metadata": {
        "colab": {
          "base_uri": "https://localhost:8080/"
        },
        "id": "QTpBqL2_uG6D",
        "outputId": "8ec33096-4779-4783-88c0-ee7d059101bb"
      },
      "execution_count": null,
      "outputs": [
        {
          "output_type": "stream",
          "name": "stdout",
          "text": [
            "Score: 667.3\n",
            "Risco \"Médio\"\n"
          ]
        }
      ]
    },
    {
      "cell_type": "markdown",
      "source": [
        "## ◾ **Exercício Proposto**\n",
        "\n",
        "a) Faça um programa que, dado um numero inteiro, imprima na tela a sua tabuada, do 0 ao 10. \n",
        "\n",
        "b) Considere a seguinte lista:\n",
        "\n",
        "``frutas = [maçã, banana, limão, kiwi, tomate, morango, abacate, abacaxi, mexirica, pera, uva]\n",
        "``\n",
        "Faça um programa que imprima na tela os itens da lista, um a um, mas que interrompa a impressão caso um elemento da lista tenha mais do que 7 caracteres. "
      ],
      "metadata": {
        "id": "VbAUgrjhuV2m"
      }
    },
    {
      "cell_type": "code",
      "source": [
        "numero = int(input('Entre com um número inteiro entre 0 e 10: '))\n",
        "\n",
        "print(f'\\n**Tabuada do {numero}**\\n')\n",
        "for i in range(11):\n",
        "    print(f'{numero} * {i} = {numero*i}')"
      ],
      "metadata": {
        "colab": {
          "base_uri": "https://localhost:8080/"
        },
        "id": "dq3VrgCBurE6",
        "outputId": "09994ebc-abe2-49b3-bea5-8b7a993de296"
      },
      "execution_count": null,
      "outputs": [
        {
          "output_type": "stream",
          "name": "stdout",
          "text": [
            "Entre com um número inteiro entre 0 e 10: 10\n",
            "\n",
            "**Tabuada do 10**\n",
            "\n",
            "10 * 0 = 0\n",
            "10 * 1 = 10\n",
            "10 * 2 = 20\n",
            "10 * 3 = 30\n",
            "10 * 4 = 40\n",
            "10 * 5 = 50\n",
            "10 * 6 = 60\n",
            "10 * 7 = 70\n",
            "10 * 8 = 80\n",
            "10 * 9 = 90\n",
            "10 * 10 = 100\n"
          ]
        }
      ]
    },
    {
      "cell_type": "code",
      "source": [
        "frutas = ['maçã', 'banana', 'limão', 'kiwi', 'tomate', 'morango', 'abacate', 'abacaxi', 'mexirica', 'pera', 'uva']\n",
        "i = 0\n",
        "while True:\n",
        "  if len(frutas[i]) > 7:\n",
        "    break\n",
        "  print(frutas[i])\n",
        "  i += 1"
      ],
      "metadata": {
        "colab": {
          "base_uri": "https://localhost:8080/"
        },
        "id": "tP3JqmBUvB2-",
        "outputId": "8140dd5a-85df-4971-e166-ce8b19202c3f"
      },
      "execution_count": null,
      "outputs": [
        {
          "output_type": "stream",
          "name": "stdout",
          "text": [
            "maçã\n",
            "banana\n",
            "limão\n",
            "kiwi\n",
            "tomate\n",
            "morango\n",
            "abacate\n",
            "abacaxi\n"
          ]
        }
      ]
    },
    {
      "cell_type": "markdown",
      "source": [
        "## ◾ **Exercício Proposto**\n",
        "\n",
        "Estime uma probabilidade através da frequencia dos acontecimentos de um fenômeno.\n",
        "\n",
        "Ao arremessar, digamos, 5 dados não viesados, qual é a probabilidade aproximada de que a soma dos dados será superior a 20? \n",
        "\n",
        "Repita o experimento um número grande de vezes e verifique quantas vezes a soma é superior a vinte em relação ao número de simulações do experimento. Essa é a sua probabilidade aproximada. \n",
        "\n",
        "Crie uma função que tem como argumentos: \n",
        "- número de repetições do experimento\n",
        "- número de dígitos para apresentar o resultado final (padrão: 2)\n",
        "- opção se o valor apresentado deve ser em decimal ou porcentagem (padrão: porcentagem)\n",
        "\n",
        "A função deve retornar em tela o valor estimado para essa probabilidade. \n",
        "\n"
      ],
      "metadata": {
        "id": "A71nfTQ9xgxD"
      }
    },
    {
      "cell_type": "code",
      "source": [
        "import random\n",
        "def Experimento(repeticoes, digitos = 2, valor = 'porcentagem'):\n",
        "    \n",
        "    maior = []\n",
        "    for rep in range(repeticoes):\n",
        "    \n",
        "        dados = []\n",
        "        for i in range(5):\n",
        "            dados.append(random.sample(range(1, 7), 1)[0])\n",
        "            \n",
        "        # random.choices(range(1, 7), k = 5) # alternativa ao 'for' acima\n",
        "\n",
        "        if sum(dados) >= 30:\n",
        "            maior.append(True)\n",
        "        else:\n",
        "            maior.append(False) \n",
        " \n",
        "    prob = sum(maior)/repeticoes\n",
        "\n",
        "    print(f'A probabilidade estimada é de {prob*100}%')\n",
        "    return prob\n",
        "\n",
        "Experimento(100000)"
      ],
      "metadata": {
        "colab": {
          "base_uri": "https://localhost:8080/"
        },
        "id": "OX1wfKPAxlmm",
        "outputId": "9691f7d5-f32a-4245-81bf-32974b13e1de"
      },
      "execution_count": null,
      "outputs": [
        {
          "output_type": "stream",
          "name": "stdout",
          "text": [
            "A probabilidade estimada é de 0.015%\n"
          ]
        },
        {
          "output_type": "execute_result",
          "data": {
            "text/plain": [
              "0.00015"
            ]
          },
          "metadata": {},
          "execution_count": 19
        }
      ]
    },
    {
      "cell_type": "markdown",
      "source": [
        "## ◾ **Exercício Proposto**\n",
        "\n",
        "No jogo da Mega-sena, verifique quantos concursos já foram feitos até a data em que você está vendo essa aula. \n",
        "\n",
        "- Simule essa quantidade de jogos e veja a frequencia com que cada quantidade de acertos acontece. Esse é o cenário em que alguém fez um jogo simples em todos os concursos da Mega-sena. \n",
        "- Simule o cenário em que uma pessoa jogou 1000x cada concurso da Mega-sena, e verifique os mesmos resultados. Repita o experimento e analise a variabilidade dos números obtidos. \n",
        "- Faça um programa que conte as tentativas até que ocorra a primeira quina no jogo simulado da Mega-sena. Repita o procedimento 1000x e obtenha o número médio de vezes que algúem precisa jogar até conseguir a sua primeira quina. \n",
        "- Continue com os experimentos à sua maneira! "
      ],
      "metadata": {
        "id": "K6muC-tl8jwS"
      }
    },
    {
      "cell_type": "code",
      "source": [
        "concursos = 2470*1000\n",
        "\n",
        "resultados = []\n",
        "for i in range(concursos):\n",
        "    meujogo = set(random.sample(range(1,61), 6)) \n",
        "    sorteio = set(random.sample(range(1,61), 6)) \n",
        "    acertos = meujogo.intersection(sorteio)\n",
        "    resultados.append(len(acertos))  \n",
        "\n",
        "for i in range(7):\n",
        "    c = resultados.count(i)\n",
        "    print(f'Número de acertos de {i}: {c} ({round(100*c/concursos, 1)}%)')\n",
        "\n",
        "    "
      ],
      "metadata": {
        "colab": {
          "base_uri": "https://localhost:8080/"
        },
        "id": "uEv_bB9k8iV-",
        "outputId": "cb894627-f10f-4762-ae36-f2c11eecf825"
      },
      "execution_count": null,
      "outputs": [
        {
          "output_type": "stream",
          "name": "stdout",
          "text": [
            "Número de acertos de 0: 1273783 (51.6%)\n",
            "Número de acertos de 1: 936193 (37.9%)\n",
            "Número de acertos de 2: 234587 (9.5%)\n",
            "Número de acertos de 3: 24330 (1.0%)\n",
            "Número de acertos de 4: 1087 (0.0%)\n",
            "Número de acertos de 5: 20 (0.0%)\n",
            "Número de acertos de 6: 0 (0.0%)\n"
          ]
        }
      ]
    },
    {
      "cell_type": "code",
      "source": [
        "def TentativasQuina():\n",
        "    contador = 0\n",
        "    while True:\n",
        "        contador += 1\n",
        "        meujogo = set(random.sample(range(1,61), 6)) \n",
        "        sorteio = set(random.sample(range(1,61), 6)) \n",
        "        acertos = meujogo.intersection(sorteio)\n",
        "        if len(acertos) >= 5:\n",
        "            break\n",
        "    return contador\n",
        "\n",
        "repeticoes = 50\n",
        "tentativas = [TentativasQuina() for i in range(repeticoes)]\n",
        "tentativas"
      ],
      "metadata": {
        "colab": {
          "base_uri": "https://localhost:8080/"
        },
        "id": "R54bpTIiIXPn",
        "outputId": "88c09357-21c1-41c8-bca3-88c9d3fe40b8"
      },
      "execution_count": null,
      "outputs": [
        {
          "output_type": "execute_result",
          "data": {
            "text/plain": [
              "[347360,\n",
              " 479610,\n",
              " 406473,\n",
              " 197080,\n",
              " 154012,\n",
              " 101289,\n",
              " 33604,\n",
              " 146415,\n",
              " 222722,\n",
              " 7817,\n",
              " 35148,\n",
              " 158555,\n",
              " 511753,\n",
              " 123375,\n",
              " 205363,\n",
              " 270343,\n",
              " 253232,\n",
              " 51525,\n",
              " 481823,\n",
              " 179141,\n",
              " 152336,\n",
              " 354565,\n",
              " 6142,\n",
              " 110135,\n",
              " 66678,\n",
              " 14002,\n",
              " 165084,\n",
              " 258094,\n",
              " 17355,\n",
              " 415057,\n",
              " 19483,\n",
              " 38908,\n",
              " 245550,\n",
              " 444256,\n",
              " 249708,\n",
              " 14881,\n",
              " 160305,\n",
              " 87295,\n",
              " 79037,\n",
              " 85909,\n",
              " 45256,\n",
              " 19554,\n",
              " 79445,\n",
              " 119967,\n",
              " 72876,\n",
              " 135698,\n",
              " 11058,\n",
              " 129209,\n",
              " 379973,\n",
              " 18573]"
            ]
          },
          "metadata": {},
          "execution_count": 77
        }
      ]
    },
    {
      "cell_type": "markdown",
      "source": [
        "## ◾ **Exercício Proposto**\n",
        "\n",
        "Continue respondendo:\n",
        "\n",
        "1. Quantas vezes saiu a figurinha mais repetida, em média?\n",
        "5. Em média, quantas figurinhas não se repetem ao completar o álbum?\n",
        "6. Qual a probabilidade de se gastar mais que R\\$3000,00 para completar o álbum?\n",
        "7. Qual a probabilidade de se gastar menos que R\\$1500,00 para completar o álbum?\n",
        "8. Qual a probabilidade de se gastar mais do que a média para completar o álbum? \n",
        "10. Qual o valor médio gasto caso se esteja completando o álbum com mais um amigo? Quanto se economiza nesse o cenário?\n",
        "12. Qual o valor médio gasto caso se esteja completando o álbum com mais dois amigos? Quanto se economiza nesse cenário?\n",
        "13. Quanto se gasta, em média, para completar os primeiros 25% do álbum? E os primeiros 50%? E os primeiros 75%?"
      ],
      "metadata": {
        "id": "9p200w_kPb2t"
      }
    },
    {
      "cell_type": "code",
      "source": [
        "import random\n",
        "\n",
        "#album zerado\n",
        "n = 251\n",
        "preco_album = 10\n",
        "preco_pacote = 4\n",
        "\n",
        "def SimularCompletarAlbum():\n",
        "    album = [0] * n\n",
        "    pacotes = 0\n",
        "\n",
        "    while True:\n",
        "        #comprar um pacotinho de figurinhas\n",
        "        pacotinho = random.choices(range(n), k = 4)  \n",
        "        pacotes += 1\n",
        "\n",
        "        #colar as figurinhas no álbum\n",
        "        for figurinha in pacotinho:\n",
        "            album[figurinha] += 1\n",
        "\n",
        "        #verificar figurinhas preenchidas\n",
        "        preenchidas = []\n",
        "        for figurinha in album:\n",
        "            preenchidas.append(figurinha > 0)\n",
        "\n",
        "        if all(preenchidas):\n",
        "            break\n",
        "    \n",
        "    return pacotes, max(album), album.count(1)"
      ],
      "metadata": {
        "id": "pq9AI6E6Pg-r"
      },
      "execution_count": null,
      "outputs": []
    },
    {
      "cell_type": "code",
      "source": [
        "reps = 1000\n",
        "resultados = []\n",
        "maisrepets = []\n",
        "naorepete = []\n",
        "\n",
        "for i in range(reps):\n",
        "    resultados.append(SimularCompletarAlbum()[0])\n",
        "    maisrepets.append(SimularCompletarAlbum()[1])\n",
        "    naorepete.append(SimularCompletarAlbum()[2])\n",
        "    if (i+1) % 100 == 0:\n",
        "        print(f'Simulacao {i+1}/{reps} completas')"
      ],
      "metadata": {
        "colab": {
          "base_uri": "https://localhost:8080/"
        },
        "id": "rbY3e5qvSQBL",
        "outputId": "598874f9-9851-4590-93d9-8658972e0bd3"
      },
      "execution_count": null,
      "outputs": [
        {
          "output_type": "stream",
          "name": "stdout",
          "text": [
            "Simulacao 100/1000 completas\n",
            "Simulacao 200/1000 completas\n",
            "Simulacao 300/1000 completas\n",
            "Simulacao 400/1000 completas\n",
            "Simulacao 500/1000 completas\n",
            "Simulacao 600/1000 completas\n",
            "Simulacao 700/1000 completas\n",
            "Simulacao 800/1000 completas\n",
            "Simulacao 900/1000 completas\n",
            "Simulacao 1000/1000 completas\n"
          ]
        }
      ]
    },
    {
      "cell_type": "code",
      "source": [
        "sum(maisrepets)/len(maisrepets)"
      ],
      "metadata": {
        "colab": {
          "base_uri": "https://localhost:8080/"
        },
        "id": "1k5DCBOoSSoR",
        "outputId": "d25c16e9-2327-4b8e-b494-e21fe9d2f800"
      },
      "execution_count": null,
      "outputs": [
        {
          "output_type": "execute_result",
          "data": {
            "text/plain": [
              "14.212"
            ]
          },
          "metadata": {},
          "execution_count": 7
        }
      ]
    },
    {
      "cell_type": "code",
      "source": [
        "sum(naorepete)/len(naorepete)"
      ],
      "metadata": {
        "colab": {
          "base_uri": "https://localhost:8080/"
        },
        "id": "SglAvJTDSWPd",
        "outputId": "85d01d3c-4ef7-4d32-ba08-b725a4038600"
      },
      "execution_count": null,
      "outputs": [
        {
          "output_type": "execute_result",
          "data": {
            "text/plain": [
              "6.0"
            ]
          },
          "metadata": {},
          "execution_count": 5
        }
      ]
    },
    {
      "cell_type": "code",
      "source": [
        "maior = [i*preco_pacote + preco_album > 2000 for i in resultados]\n",
        "maior"
      ],
      "metadata": {
        "id": "uWbL4xhYSZv1"
      },
      "execution_count": null,
      "outputs": []
    },
    {
      "cell_type": "code",
      "source": [
        "resultados"
      ],
      "metadata": {
        "id": "vxFv8bflSdST"
      },
      "execution_count": null,
      "outputs": []
    },
    {
      "cell_type": "code",
      "source": [
        "sum(maior)/len(maior)"
      ],
      "metadata": {
        "id": "3sDfmtxYShb5"
      },
      "execution_count": null,
      "outputs": []
    },
    {
      "cell_type": "code",
      "source": [
        "import random\n",
        "\n",
        "#album zerado\n",
        "n = 251\n",
        "preco_album = 10\n",
        "preco_pacote = 4\n",
        "\n",
        "def SimularCompletarAlbum(pessoas = 1):\n",
        "    album = [0] * n\n",
        "    pacotes = 0\n",
        "\n",
        "    while True:\n",
        "        #comprar um pacotinho de figurinhas\n",
        "        pacotinho = random.choices(range(n), k = 4)  \n",
        "        pacotes += 1\n",
        "\n",
        "        #colar as figurinhas no álbum\n",
        "        for figurinha in pacotinho:\n",
        "            album[figurinha] += 1\n",
        "\n",
        "        #verificar figurinhas preenchidas\n",
        "        preenchidas = []\n",
        "        for figurinha in album:\n",
        "            preenchidas.append(figurinha >= pessoas)\n",
        "\n",
        "        if all(preenchidas):\n",
        "            break\n",
        "    \n",
        "    return (pacotes*preco_pacote + preco_album)/pessoas"
      ],
      "metadata": {
        "id": "VyYdk9acSkkz"
      },
      "execution_count": null,
      "outputs": []
    },
    {
      "cell_type": "code",
      "source": [
        "SimularCompletarAlbum(pessoas = 2)"
      ],
      "metadata": {
        "id": "UvROEioOSrqs"
      },
      "execution_count": null,
      "outputs": []
    },
    {
      "cell_type": "code",
      "source": [
        "amigos = [1, 2, 3, 5, 8, 13, 21, 34, 55, 89, 144, 233, 377, 610, 987]\n",
        "reps = 10\n",
        "\n",
        "resultados = []\n",
        "for j in amigos:\n",
        "    custos = [SimularCompletarAlbum(pessoas = j) for i in range(reps)]\n",
        "    resultados.append(np.mean(custos))\n",
        "\n",
        "resultados"
      ],
      "metadata": {
        "id": "9ZBNM-5KSt-x"
      },
      "execution_count": null,
      "outputs": []
    },
    {
      "cell_type": "code",
      "source": [
        "n = 251\n",
        "preco_album = 10\n",
        "preco_pacote = 4\n",
        "\n",
        "import numpy as np\n",
        "minimo = np.ceil(n/4)*preco_pacote + preco_album\n",
        "minimo"
      ],
      "metadata": {
        "id": "3nf7L48OSy8H"
      },
      "execution_count": null,
      "outputs": []
    },
    {
      "cell_type": "code",
      "source": [
        "import matplotlib.pyplot as plt\n",
        "\n",
        "plt.plot(amigos, resultados)\n",
        "plt.axhline(minimo, linestyle = 'dashed')\n",
        "plt.show()"
      ],
      "metadata": {
        "id": "ejEtpWjLS3Cx"
      },
      "execution_count": null,
      "outputs": []
    },
    {
      "cell_type": "code",
      "source": [
        "def SimularCompletarAlbum(completo = 1, pessoas = 1):\n",
        "    album = [0] * n\n",
        "    pacotes = 0\n",
        "\n",
        "    if completo == 0:\n",
        "        return 10\n",
        "    else:\n",
        "        while True:\n",
        "            #comprar um pacotinho de figurinhas\n",
        "            pacotinho = random.choices(range(n), k = 4)  \n",
        "\n",
        "            #colar as figurinhas no álbum\n",
        "            for figurinha in pacotinho:\n",
        "                album[figurinha] += 1\n",
        "\n",
        "            #verificar figurinhas preenchidas\n",
        "            preenchidas = []\n",
        "            for figurinha in album:\n",
        "                preenchidas.append(figurinha >= pessoas)\n",
        "\n",
        "            if sum(preenchidas)/len(album) >= completo: \n",
        "                break\n",
        "          return (pacotes*preco_pacote + preco_album)/pessoas"
      ],
      "metadata": {
        "id": "mBIPVthbS_DR"
      },
      "execution_count": null,
      "outputs": []
    },
    {
      "cell_type": "code",
      "source": [
        "reps = 1000\n",
        "res25 = []\n",
        "res50 = []\n",
        "res75 = []\n",
        "res100 = []\n",
        "\n",
        "for i in range(reps):\n",
        "    res25.append(SimularCompletarAlbum(completo = 0.25))\n",
        "    res50.append(SimularCompletarAlbum(completo = 0.5))\n",
        "    res75.append(SimularCompletarAlbum(completo = 0.75))\n",
        "    res100.append(SimularCompletarAlbum(completo = 1))\n",
        "    if (i+1) % 100 == 0:\n",
        "        print(f'Simulacao {i+1}/{reps} completas')\n",
        "\n",
        "print(np.mean(res25))\n",
        "print(np.mean(res50))\n",
        "print(np.mean(res75))\n",
        "print(np.mean(res100))"
      ],
      "metadata": {
        "id": "6ENzoz8HTM9Z"
      },
      "execution_count": null,
      "outputs": []
    },
    {
      "cell_type": "code",
      "source": [
        "16*4 + 10"
      ],
      "metadata": {
        "id": "JgPU04UETYs_"
      },
      "execution_count": null,
      "outputs": []
    },
    {
      "cell_type": "code",
      "source": [
        "pct = np.arange(0, 1.1, 0.1)\n",
        "pct"
      ],
      "metadata": {
        "id": "v3rvbIRGTcJP"
      },
      "execution_count": null,
      "outputs": []
    },
    {
      "cell_type": "code",
      "source": [
        "reps = 100\n",
        "resultados = []\n",
        "\n",
        "for j in pct:\n",
        "    aux = [SimularCompletarAlbum(completo = j) for i in range(reps)]\n",
        "    resultados.append(np.mean(aux))\n",
        "\n",
        "\n",
        "resultados"
      ],
      "metadata": {
        "id": "OGhax9PcTepk"
      },
      "execution_count": null,
      "outputs": []
    },
    {
      "cell_type": "code",
      "source": [
        "import matplotlib.pyplot as plt\n",
        "\n",
        "plt.plot(pct, resultados) \n",
        "plt.xlabel('Porcentagem Concluída do Álbum')\n",
        "plt.ylabel('Custo Médio Aproximado para Concluir')\n",
        "plt.show()"
      ],
      "metadata": {
        "id": "kZp7p-XiTmnd"
      },
      "execution_count": null,
      "outputs": []
    }
  ]
}